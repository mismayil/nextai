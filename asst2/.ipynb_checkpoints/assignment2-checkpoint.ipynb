{
 "cells": [
  {
   "cell_type": "markdown",
   "metadata": {},
   "source": [
    "# Destin AI, Machine Learning Assignment 2\n",
    "\n",
    "\n",
    "## Problem statement\n",
    "\n",
    "One of the goals of our company among others is to provide users with answers to their questions. Since we are a legal startup, specially focused on immigration and visa, we are interested in helping people with their visa related questions. There are tons of sources on internet like cic, canadavisa and etc. where you can find answers to these kind of questions. But wouldn't it be great if you could just ask them in one unified platform by just chatting with an agent who is not only able to answer your questions, but also can make suggestions based on them, point you in the right direction and connect you with people like lawyers who can help you in your journey to a new country? So, that is why we are building this AI chatbot solution trained with an immigration/visa domain that can offer answers to people's questions and guide them in the right path to a destination. \n",
    "\n",
    "\n",
    "## Approach\n",
    "\n",
    "In order to build this chatbot solution, we are leveraging already existing tools and technologies such as messenger platforms and AI agents such as Dialogflow. These agents are able to handle basic conversations and certain domains. We need to extend this domain to immigration/visa and this means we have to be able to match user question with an answer. In other words, we have to train a model which can recognize similar sentences. So, it is a Natural Language Understanding problem and we need to encode and decode sentences in some fashion to find semantically related sentences. One approach to doing this is to map sentences that share semantic and syntactic properties to similar vector representations. There is a model called Skip Thoughts (by Ryan Kiros, Yukun Zhu, Ruslan Salakhutdinov, Richard S. Zemel, Antonio Torralba, Raquel Urtasun, Sanja Fidler) which is distributed sentence encoder based on this approach. This model has been trained with a vast amount of text from wiki pages, but it also provides a mechanism for a simple vocabulary expansion which is what we need to extend our domain with visa related concepts and this is done by encoding words into vectors which is called word2vec (by Mikolov et al.)\n",
    "\n",
    "Word2vec is computationally-efficient predictive model for learning word embeddings from raw text. It uses either of 2 approaches - Continuous Bag-of-Words model (CBOW) and the Skip-Gram model. Algorithmically, these models are similar, except that CBOW predicts target words from source context words, while the skip-gram does the inverse and predicts source context-words from the target words. Word2Vec is trained using 3 layer neural network (1 input, 1 hidden, 1 output) and actually hidden layer produces the word embeddings so we discard the ouput layer. Here in this assignment, I would like to prototype this model by training it on sentences collected from https://www.canadavisa.com/canada-immigration-questions-faq.html.  "
   ]
  },
  {
   "cell_type": "code",
   "execution_count": null,
   "metadata": {},
   "outputs": [],
   "source": [
    "# Normalize text \n",
    "import re\n",
    "def normalize_text(text):\n",
    "\n",
    "    text = text.lower()\n",
    "    text = re.sub('((www\\.[^\\s]+)|(https?://[^\\s]+)|(canadavisa\\.com/[^\\s]+))','', text)\n",
    "    text = re.sub('@[^\\s]+','', text)\n",
    "    text = re.sub('#([^\\s]+)', '', text)\n",
    "    text = re.sub('[:;>?<=*+()&,\\-#!$%\\{˜|\\}\\[^_\\\\@\\]1234567890’‘]',' ', text)\n",
    "    text = re.sub('[\\d]','', text)\n",
    "    text = text.replace(\".\", '')\n",
    "    text = text.replace(\"'\", '')\n",
    "    text = text.replace(\"`\", '')\n",
    "    text = text.replace(\"'s\", '')\n",
    "    text = text.replace(\"/\", ' ')\n",
    "    text = text.replace(\"\\\"\", ' ')\n",
    "    text = text.replace(\"\\\\\", '')\n",
    "    text = re.sub(' +', ' ', text)\n",
    "    text = text.replace('\\n', ' ').replace('\\r', ' ').replace('\\t', ' ')\n",
    "\n",
    "    # normalize some utf8 encoding\n",
    "    text = text.replace(\"\\x9d\",'').replace(\"\\x8c\",'')\n",
    "    text = text.replace(\"\\xa0\",'')\n",
    "    text = text.replace(\"\\x9d\\x92\", '').replace(\"\\x9a\\xaa\\xf0\\x9f\\x94\\xb5\", '').replace(\"\\xf0\\x9f\\x91\\x8d\\x87\\xba\\xf0\\x9f\\x87\\xb8\", '').replace(\"\\x9f\",'').replace(\"\\x91\\x8d\",'')\n",
    "    text = text.replace(\"\\xf0\\x9f\\x87\\xba\\xf0\\x9f\\x87\\xb8\",'').replace(\"\\xf0\",'').replace('\\xf0x9f','').replace(\"\\x9f\\x91\\x8d\",'').replace(\"\\x87\\xba\\x87\\xb8\",'')\n",
    "    text = text.replace(\"\\xe2\\x80\\x94\",'').replace(\"\\x9d\\xa4\",'').replace(\"\\x96\\x91\",'').replace(\"\\xe1\\x91\\xac\\xc9\\x8c\\xce\\x90\\xc8\\xbb\\xef\\xbb\\x89\\xd4\\xbc\\xef\\xbb\\x89\\xc5\\xa0\\xc5\\xa0\\xc2\\xb8\",'')\n",
    "    text = text.replace(\"\\xe2\\x80\\x99s\", \"\").replace(\"\\xe2\\x80\\x98\", '').replace(\"\\xe2\\x80\\x99\", '').replace(\"\\xe2\\x80\\x9c\", \"\").replace(\"\\xe2\\x80\\x9d\", \"\")\n",
    "    text = text.replace(\"\\xe2\\x82\\xac\", \"\").replace(\"\\xc2\\xa3\", \"\").replace(\"\\xc2\\xa0\", \"\").replace(\"\\xc2\\xab\", \"\").replace(\"\\xf0\\x9f\\x94\\xb4\", \"\").replace(\"\\xf0\\x9f\\x87\\xba\\xf0\\x9f\\x87\\xb8\\xf0\\x9f\", \"\")\n",
    "    \n",
    "    text = re.sub(r\"\\b[a-z]\\b\", \"\", text)\n",
    "    text = re.sub( '\\s+', ' ', text).strip()\n",
    "    text = re.sub(r'\\.+', \".\", text)\n",
    "    text = re.sub(r'\\.\\.+', ' ', text).replace('.', '')\n",
    "    \n",
    "    # Replace multiple dots with space\n",
    "    text = re.sub('\\.\\.+', ' ', text) \n",
    "    \n",
    "    # Remove single dots\n",
    "    text = re.sub('\\.', '', text)\n",
    "    text = re.sub(r'\\.{2,}', ' ', text)\n",
    "    text = re.sub(r'\\.{1}', '', text)\n",
    "    \n",
    "    return text"
   ]
  },
  {
   "cell_type": "markdown",
   "metadata": {},
   "source": [
    "### Text preparation\n",
    "\n",
    "Here we read the input file which contains FAQ content scraped from https://www.canadavisa.com/canada-immigration-questions-faq.html."
   ]
  },
  {
   "cell_type": "code",
   "execution_count": null,
   "metadata": {},
   "outputs": [],
   "source": [
    "# Read input text\n",
    "f = open('faq.txt')\n",
    "content = f.read()\n",
    "print(content)"
   ]
  },
  {
   "cell_type": "markdown",
   "metadata": {},
   "source": [
    "As we can see from the output, this data is very messy with extra characters, spaces and etc. that we need to clean for our training. This process is called text normalization. Let's do the normalization using our helper function defined above."
   ]
  },
  {
   "cell_type": "code",
   "execution_count": null,
   "metadata": {},
   "outputs": [],
   "source": [
    "# Normalize content\n",
    "content = normalize_text(content)\n",
    "print(content)"
   ]
  },
  {
   "cell_type": "markdown",
   "metadata": {},
   "source": [
    "### Tokenization\n",
    "\n",
    "Now we need to tokenize this content into words so that we can operate word-wise and discover interesting properties about this text. Let's see what are the 10 most common words in our text."
   ]
  },
  {
   "cell_type": "code",
   "execution_count": null,
   "metadata": {},
   "outputs": [],
   "source": [
    "import collections\n",
    "\n",
    "# Tokenize content\n",
    "words = content.split()\n",
    "counts = collections.Counter(words).most_common() \n",
    "print (\"Word count\", counts[:10])"
   ]
  },
  {
   "cell_type": "markdown",
   "metadata": {},
   "source": [
    "Now let's build a dictionary of unique words and print its size."
   ]
  },
  {
   "cell_type": "code",
   "execution_count": null,
   "metadata": {},
   "outputs": [],
   "source": [
    "# Build dictionary\n",
    "unique_words = [c[0] for c in counts]\n",
    "dictionary = {w: i for i, w in enumerate(unique_words)}\n",
    "dict_size = len(dictionary)\n",
    "print(dict_size)"
   ]
  },
  {
   "cell_type": "markdown",
   "metadata": {},
   "source": [
    "### Data preparation\n",
    "\n",
    "The next step is to make data out of word indices. We will use this new data to prepare our special training data."
   ]
  },
  {
   "cell_type": "code",
   "execution_count": null,
   "metadata": {},
   "outputs": [],
   "source": [
    "# Make data of word indices\n",
    "data = [dictionary[word] for word in words]\n",
    "print('Sample data', data[:10], words[:10])"
   ]
  },
  {
   "cell_type": "markdown",
   "metadata": {},
   "source": [
    "Now we need to prepare our actual training data using Continuous Bag of Words (CBOW) and Skip-Gram models."
   ]
  },
  {
   "cell_type": "code",
   "execution_count": null,
   "metadata": {},
   "outputs": [],
   "source": [
    "# Build CBOW pairs of indices and words\n",
    "cbow_pairs = []\n",
    "\n",
    "for i in range(1, len(data)-1) :\n",
    "    cbow_pairs.append([[data[i-1], data[i+1]], data[i]])\n",
    "    \n",
    "print('CBOW pairs: ', cbow_pairs[:5])\n",
    "print()\n",
    "\n",
    "cbow_pairs_words = []\n",
    "\n",
    "for i in range(1, len(words)-1) :\n",
    "    cbow_pairs_words.append([[words[i-1], words[i+1]], words[i]])\n",
    "    \n",
    "print('CBOW pair words: ', cbow_pairs_words[:5])"
   ]
  },
  {
   "cell_type": "code",
   "execution_count": null,
   "metadata": {},
   "outputs": [],
   "source": [
    "# Build Skip-Gram pairs of indices and words\n",
    "skip_gram_pairs=[]\n",
    "\n",
    "for c in cbow_pairs:\n",
    "    skip_gram_pairs.append([c[1],c[0][0]])\n",
    "    skip_gram_pairs.append([c[1],c[0][1]])\n",
    "\n",
    "print('Skip-Gram pairs: ', skip_gram_pairs[:5])\n",
    "print()\n",
    "\n",
    "skip_gram_pairs_words=[]\n",
    "\n",
    "for c in cbow_pairs_words:\n",
    "    skip_gram_pairs_words.append([c[1],c[0][0]])\n",
    "    skip_gram_pairs_words.append([c[1],c[0][1]])\n",
    "    \n",
    "print('Skip-Gram pair words: ', skip_gram_pairs_words[:5])"
   ]
  },
  {
   "cell_type": "markdown",
   "metadata": {},
   "source": [
    "Here we define a helper function to get sample batches from our dataset which we will use in our training algorithm."
   ]
  },
  {
   "cell_type": "code",
   "execution_count": null,
   "metadata": {},
   "outputs": [],
   "source": [
    "# Generate a batch\n",
    "import numpy as np\n",
    "\n",
    "def get_batch(size):\n",
    "    assert size<len(skip_gram_pairs)\n",
    "    X=[]\n",
    "    Y=[]\n",
    "    samples = np.random.choice(range(len(skip_gram_pairs)),size,replace=False)\n",
    "    \n",
    "    for s in samples:\n",
    "        X.append(skip_gram_pairs[s][0])\n",
    "        Y.append([skip_gram_pairs[s][1]])\n",
    "    return X , Y\n",
    "\n",
    "# sample batch generation for size of 5\n",
    "print ('Batches (x, y)', get_batch(5))"
   ]
  },
  {
   "cell_type": "markdown",
   "metadata": {},
   "source": [
    "### Model training\n",
    "\n",
    "Now we are going to define the training algorithm and its parameters and then run it to get our model. Here we are using the NCE loss as a loss function and Gradient descent for minimizing. "
   ]
  },
  {
   "cell_type": "code",
   "execution_count": null,
   "metadata": {},
   "outputs": [],
   "source": [
    "# Setup the training algorithm\n",
    "import tensorflow as tf\n",
    "\n",
    "batch_size = 20\n",
    "embedding_size = 2\n",
    "num_sampled = 15    # Number of negative examples to sample.\n",
    "\n",
    "X = tf.placeholder(tf.int32,shape=[batch_size]) # inputs\n",
    "Y = tf.placeholder(tf.int32,shape=[batch_size,1]) # labels\n",
    "\n",
    "with tf.device(\"/cpu:0\"):\n",
    "    # Look up embeddings for inputs.\n",
    "    embeddings = tf.Variable(tf.random_uniform([dict_size, embedding_size],-1.0,1.0))\n",
    "    embed = tf.nn.embedding_lookup(embeddings, X) # lookup table\n",
    "    \n",
    "# Construct the variables for the NCE loss\n",
    "nce_weights = tf.Variable(tf.random_uniform([dict_size, embedding_size],-1.0, 1.0))\n",
    "nce_biases = tf.Variable(tf.zeros([dict_size]))\n",
    "\n",
    "# Compute the average NCE loss for the batch.\n",
    "# This does the magic:\n",
    "#   tf.nn.nce_loss(weights, biases, inputs, labels, num_sampled, num_classes ...)\n",
    "# It automatically draws negative samples when we evaluate the loss.\n",
    "loss = tf.reduce_mean(tf.nn.nce_loss(nce_weights, nce_biases, Y, embed, num_sampled, dict_size))\n",
    "\n",
    "# Use the Gradient Descent optimizer\n",
    "optimizer = tf.train.GradientDescentOptimizer(1.0).minimize(loss)"
   ]
  },
  {
   "cell_type": "markdown",
   "metadata": {},
   "source": [
    "#### Warning\n",
    "This next cell will take about 5-6 mins."
   ]
  },
  {
   "cell_type": "code",
   "execution_count": null,
   "metadata": {},
   "outputs": [],
   "source": [
    "# Train it\n",
    "epochs = 10000\n",
    "with tf.Session() as sess:\n",
    "    sess.run(tf.global_variables_initializer())\n",
    "    \n",
    "    for epoch in range(epochs):\n",
    "        \n",
    "        batch_inputs, batch_labels = get_batch(batch_size)\n",
    "        _,loss_val=sess.run([optimizer,loss],feed_dict = {X : batch_inputs, Y : batch_labels })\n",
    "        \n",
    "        if epoch % 1000 == 0:\n",
    "            print(\"Loss at \", epoch, loss_val) # Report the loss\n",
    "    \n",
    "    trained_embeddings = embeddings.eval()"
   ]
  },
  {
   "cell_type": "markdown",
   "metadata": {},
   "source": [
    "Now we have our embeddings for words, let's try to visualize it by making graph of words and their respective vectors. This shows us that words that are related map to similar vectors. "
   ]
  },
  {
   "cell_type": "code",
   "execution_count": null,
   "metadata": {},
   "outputs": [],
   "source": [
    "import matplotlib.pyplot as plt\n",
    "if trained_embeddings.shape[1] == 2:\n",
    "    labels = unique_words[:50]\n",
    "    for i, label in enumerate(labels):\n",
    "        x, y = trained_embeddings[i,:]\n",
    "        plt.scatter(x, y)\n",
    "        plt.annotate(label, xy=(x, y), xytext=(5, 2),\n",
    "            textcoords='offset points', ha='right', va='bottom')\n",
    "    plt.show()"
   ]
  },
  {
   "cell_type": "markdown",
   "metadata": {},
   "source": [
    "So, in conclusion we can see that word embeddings help us to find similarities between words by using low dimensional vectors. This was of course just an intro to NLP and to solve our actual problem, we need to use more sophisticated model like Skip-thoughts that is based on the similar concept, but for sentences and uses word2vec model to expand its vocabulary. "
   ]
  },
  {
   "cell_type": "markdown",
   "metadata": {},
   "source": [
    "## References\n",
    "\n",
    "1. Skip-Thought vectors (Ryan Kiros, Yukun Zhu, Ruslan Salakhutdinov, Richard S. Zemel, Antonio Torralba, Raquel Urtasun, Sanja Fidler). https://arxiv.org/abs/1506.06726\n",
    "2. Efficient Estimation of Word Representations in Vector Space (Tomas Mikolov, Kai Chen, Greg Corrado, Jeffrey Dean). https://arxiv.org/abs/1301.3781\n",
    "3. Distributed Representations of Words and Phrases and their Compositionality (Tomas Mikolov, Ilya Sutskever, Kai Chen, Greg Corrado, Jeffrey Dean). https://arxiv.org/abs/1310.4546\n",
    "4. Vector Representations of Words: https://www.tensorflow.org/tutorials/word2vec. "
   ]
  }
 ],
 "metadata": {
  "kernelspec": {
   "display_name": "Python 3",
   "language": "python",
   "name": "python3"
  },
  "language_info": {
   "codemirror_mode": {
    "name": "ipython",
    "version": 3
   },
   "file_extension": ".py",
   "mimetype": "text/x-python",
   "name": "python",
   "nbconvert_exporter": "python",
   "pygments_lexer": "ipython3",
   "version": "3.6.5"
  }
 },
 "nbformat": 4,
 "nbformat_minor": 2
}
